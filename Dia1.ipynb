{
 "cells": [
  {
   "cell_type": "code",
   "execution_count": 2,
   "id": "788b9cf4",
   "metadata": {},
   "outputs": [
    {
     "name": "stdout",
     "output_type": "stream",
     "text": [
      "hola mundo\n"
     ]
    }
   ],
   "source": [
    "print(\"hola mundo\")"
   ]
  },
  {
   "cell_type": "code",
   "execution_count": 3,
   "id": "d48f2508",
   "metadata": {},
   "outputs": [
    {
     "name": "stdout",
     "output_type": "stream",
     "text": [
      "25\n"
     ]
    }
   ],
   "source": [
    "#Suma\n",
    "cantidad_de_manzanas = 10\n",
    "cantida_de_naranjas = 15\n",
    "cantidad_de_frutas = cantidad_de_manzanas + cantida_de_naranjas\n",
    "print(cantidad_de_frutas)\n"
   ]
  },
  {
   "cell_type": "code",
   "execution_count": 5,
   "id": "12bdcac2",
   "metadata": {},
   "outputs": [
    {
     "name": "stdout",
     "output_type": "stream",
     "text": [
      "6\n"
     ]
    }
   ],
   "source": [
    "#Resta\n",
    "frutas_vendidas = 19\n",
    "frutas_restante = cantidad_de_frutas - frutas_vendidas\n",
    "print(frutas_restante)"
   ]
  },
  {
   "cell_type": "code",
   "execution_count": 24,
   "id": "7b0d67b5",
   "metadata": {},
   "outputs": [
    {
     "name": "stdout",
     "output_type": "stream",
     "text": [
      "Hola me llamo Gaston Duarte Mucho gusto\n"
     ]
    }
   ],
   "source": [
    "nombre = \"Gaston\"\n",
    "apellido = \"Duarte\"\n",
    "print(\"Hola me llamo \" + nombre + \" \" + apellido + \" \" + \"Mucho gusto\") "
   ]
  },
  {
   "cell_type": "code",
   "execution_count": null,
   "id": "00d2c7a9",
   "metadata": {},
   "outputs": [
    {
     "name": "stdout",
     "output_type": "stream",
     "text": [
      "99\n"
     ]
    }
   ],
   "source": [
    "numero1= input(\"Dame un numeros\")\n",
    "numero2= input(\"dame otro numero\")\n",
    "suma= int (numero1) + int (numero2)\n",
    "\n",
    "print(suma)"
   ]
  },
  {
   "cell_type": "code",
   "execution_count": 32,
   "id": "4f00e07f",
   "metadata": {},
   "outputs": [
    {
     "name": "stdout",
     "output_type": "stream",
     "text": [
      "poner pan\n",
      "poner lechuga\n",
      "poner tomate\n",
      "poner carne\n",
      "poner queso\n",
      "poner huevo\n",
      "poner pan\n",
      "oikote!\n",
      "poner pan\n",
      "poner lechuga\n",
      "poner tomate\n",
      "poner carne\n",
      "poner queso\n",
      "poner huevo\n",
      "poner pan\n",
      "oikote!\n",
      "poner pan\n",
      "poner lechuga\n",
      "poner tomate\n",
      "poner carne\n",
      "poner queso\n",
      "poner huevo\n",
      "poner pan\n",
      "oikote!\n"
     ]
    }
   ],
   "source": [
    "#Crear una funcion de un proceso que tenga varios pasos\n",
    "def prepa_hambur():\n",
    "    print('poner pan')\n",
    "    print('poner lechuga')\n",
    "    print('poner tomate')\n",
    "    print('poner carne')\n",
    "    print('poner queso')\n",
    "    print('poner huevo')\n",
    "    print('poner pan')\n",
    "    print('oikote!')\n",
    "\n",
    "prepa_hambur()\n",
    "prepa_hambur()\n",
    "prepa_hambur()"
   ]
  },
  {
   "cell_type": "code",
   "execution_count": null,
   "id": "63c62fd2",
   "metadata": {},
   "outputs": [
    {
     "name": "stdout",
     "output_type": "stream",
     "text": [
      "Le voy a agregar:\n",
      "poner pan\n",
      "agregar mayonesa\n",
      "poner pan\n",
      "oikote!\n"
     ]
    }
   ],
   "source": [
    "#Escribir una funcion que nos pida las caracteriticas de un elemento a comprar\n",
    "def prepa_hambur(ingre):\n",
    "    print(\"Le voy a agregar:\") \n",
    "    print('poner pan')\n",
    "    print(\"agregar \" + ingre) \n",
    "    print('poner pan')\n",
    "    print('oikote!')\n",
    "\n",
    "\n",
    "prepa_hambur(\"mayonesa\")"
   ]
  }
 ],
 "metadata": {
  "kernelspec": {
   "display_name": "Python 3",
   "language": "python",
   "name": "python3"
  },
  "language_info": {
   "codemirror_mode": {
    "name": "ipython",
    "version": 3
   },
   "file_extension": ".py",
   "mimetype": "text/x-python",
   "name": "python",
   "nbconvert_exporter": "python",
   "pygments_lexer": "ipython3",
   "version": "3.13.3"
  }
 },
 "nbformat": 4,
 "nbformat_minor": 5
}
