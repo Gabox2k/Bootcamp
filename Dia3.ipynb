{
 "cells": [
  {
   "cell_type": "code",
   "execution_count": 1,
   "id": "2dd4f1fa",
   "metadata": {},
   "outputs": [
    {
     "name": "stdout",
     "output_type": "stream",
     "text": [
      "Hola mundo\n"
     ]
    }
   ],
   "source": [
    "#practica \n",
    "def imprimir_saludo():\n",
    "    print(\"Hola mundo\")\n",
    "imprimir_saludo()"
   ]
  },
  {
   "cell_type": "code",
   "execution_count": 3,
   "id": "e819a931",
   "metadata": {},
   "outputs": [
    {
     "name": "stdout",
     "output_type": "stream",
     "text": [
      "palabra\n"
     ]
    }
   ],
   "source": [
    "#Crear un funcion que imprima la variable palabra\n",
    "def imprimir_palabra():\n",
    "    palabra = \"palabra\"\n",
    "    print(palabra)\n",
    "\n",
    "imprimir_palabra()"
   ]
  },
  {
   "cell_type": "code",
   "execution_count": 7,
   "id": "64b9fc2c",
   "metadata": {},
   "outputs": [
    {
     "name": "stdout",
     "output_type": "stream",
     "text": [
      "3\n"
     ]
    }
   ],
   "source": [
    "#Practica \n",
    "def sumar_numeros(numero1, numero2):\n",
    "    sumar = numero1 + numero2\n",
    "    print(sumar)\n",
    "\n",
    "sumar_numeros(1, 2)"
   ]
  },
  {
   "cell_type": "code",
   "execution_count": null,
   "id": "470cd6fc",
   "metadata": {},
   "outputs": [],
   "source": [
    "#Crear una funcion que reciba dos letras (parametros) y que verifique si son iguales\n",
    "# -Si son iguales, imprima las \"las letras son iguales\"\n",
    "# - de lo contrario, imprima \"Las letras son diferentes\"\n",
    "\n",
    "def palabras_diferentes(iguales, diferente):\n",
    "    if iguales == diferente:\n",
    "        print(\"Esta palabra es igual\")\n",
    "    else:\n",
    "        print(\"Es diferente\")\n",
    "\n",
    "palabras_diferentes(\"a\" , \"palabra\")\n"
   ]
  },
  {
   "cell_type": "code",
   "execution_count": 24,
   "id": "d5af8497",
   "metadata": {},
   "outputs": [
    {
     "name": "stdout",
     "output_type": "stream",
     "text": [
      "4\n"
     ]
    }
   ],
   "source": [
    "#Practica\n",
    "def suma(numero1, numero2):\n",
    "    sumar = numero1 + numero2\n",
    "    return sumar\n",
    "\n",
    "suma(1,2)\n",
    "\n",
    "suma1 = suma(1,2)\n",
    "total = suma1 + 1\n",
    "print(total)\n"
   ]
  },
  {
   "cell_type": "code",
   "execution_count": 41,
   "id": "c17710fa",
   "metadata": {},
   "outputs": [
    {
     "data": {
      "text/plain": [
       "False"
      ]
     },
     "execution_count": 41,
     "metadata": {},
     "output_type": "execute_result"
    }
   ],
   "source": [
    "#Crear una función que reciba dos parámetros (una palabra y un número), y que retorne True si el número es igual \n",
    "#a la cantidad de letras de la palabra. En caso contrario, que retorne False.\n",
    "#Pista: cantidad de letras de una palabra en python\n",
    "\n",
    "def palabra_numero(palabra1 , numero1):\n",
    "    if len(palabra1) == numero1:\n",
    "        return True\n",
    "    else:\n",
    "        return False\n",
    "\n",
    "palabra_numero('Abb', 1)\n",
    "\n",
    "    "
   ]
  },
  {
   "cell_type": "code",
   "execution_count": null,
   "id": "cbae36a4",
   "metadata": {},
   "outputs": [],
   "source": [
    "#Practica\n",
    "palabra_a_encontrar = input(\"Ingrese una palabra: \")\n",
    "print(palabra_a_encontrar)\n",
    "\n",
    "palabra_ingresada = input('Ingrese una palabra')\n",
    "print(palabra_ingresada)\n",
    "\n",
    "lista_de_letras_de_la_palabra_a_encontrar = list(palabra_a_encontrar)\n",
    "print(lista_de_letras_de_la_palabra_a_encontrar)\n",
    "\n",
    "lista_de_letras_de_la_palabra_a_ingresar = list(palabra_ingresada)\n",
    "print(palabra_ingresada)"
   ]
  },
  {
   "cell_type": "code",
   "execution_count": null,
   "id": "f7a9092a",
   "metadata": {},
   "outputs": [],
   "source": [
    "#Pedir al usuario que ingrese 1 palabra, luego convertir esa palabra a una lista con sus caracteres con list()\n",
    "#Agregar esa lista de caracteres a una lista llamada palabras_ingresadas. Repetir el proceso 3 veces.\n",
    "#Cada vez que se agregue una lista de caracteres, imprimir la lista palabras_ingresadas.\n",
    "\n",
    "palabras_ingresar = []\n",
    "for i in range(3):\n",
    "    palabra = input('una palabra:')\n",
    "    palabra_lista = list(palabra)\n",
    "    palabras_ingresar.append(palabra_lista)\n",
    "    print(palabras_ingresar)"
   ]
  },
  {
   "cell_type": "code",
   "execution_count": 10,
   "id": "84825969",
   "metadata": {},
   "outputs": [
    {
     "name": "stdout",
     "output_type": "stream",
     "text": [
      "['h', 'a', 'l', 'l', 'o']\n"
     ]
    }
   ],
   "source": [
    "#Dada la lista de ejemplo: \n",
    "#lista = [['h', 'o', 'l', 'i', 's'], ['h', 'e', 'l', 'l', 'o'], ['h', 'a', 'l', 'l', 'o']]\n",
    "#Crear una función que imprima una grilla (lista de listas), una línea por cada lista dentro de la lista principal.\n",
    "\n",
    "lista = [\"holis\" , \"hello\" , \"hallo\"]\n",
    "\n",
    "def impri_lista(lista):\n",
    "    for i in lista:\n",
    "        lista = list(i)\n",
    "    print(lista)\n",
    "\n",
    "impri_lista(lista)"
   ]
  },
  {
   "cell_type": "code",
   "execution_count": 5,
   "id": "1f5609e3",
   "metadata": {},
   "outputs": [
    {
     "name": "stdout",
     "output_type": "stream",
     "text": [
      "te quedan 3 intentos\n",
      "te quedan 2 intentos\n",
      "te quedan 1 intentos\n",
      "te quedaste sin intentos\n"
     ]
    }
   ],
   "source": [
    "#Practica\n",
    "intentos = 3\n",
    "\n",
    "while intentos > 0:\n",
    "    print(f'te quedan {intentos} intentos')\n",
    "    palabra = input('ingrese la palabra')\n",
    "    intentos = intentos - 1 \n",
    "print('te quedaste sin intentos')"
   ]
  }
 ],
 "metadata": {
  "kernelspec": {
   "display_name": "Python 3",
   "language": "python",
   "name": "python3"
  },
  "language_info": {
   "codemirror_mode": {
    "name": "ipython",
    "version": 3
   },
   "file_extension": ".py",
   "mimetype": "text/x-python",
   "name": "python",
   "nbconvert_exporter": "python",
   "pygments_lexer": "ipython3",
   "version": "3.13.3"
  }
 },
 "nbformat": 4,
 "nbformat_minor": 5
}
