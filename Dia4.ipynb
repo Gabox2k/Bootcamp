{
 "cells": [
  {
   "cell_type": "code",
   "execution_count": 2,
   "id": "ec36cee8",
   "metadata": {},
   "outputs": [
    {
     "name": "stdout",
     "output_type": "stream",
     "text": [
      "{'nombre': 'Laura', 'apellido': 'Gomez', 'celular': 5498564, 'Edad': 25}\n"
     ]
    }
   ],
   "source": [
    "#Practica\n",
    "#Ejemplo de diccionario\n",
    "mi_contacto= {\"nombre\": \"Laura\" , \"apellido\" : \"Gomez\" , \"celular\" : 5498564 , \"Edad\" : 25}\n",
    "print(mi_contacto)"
   ]
  },
  {
   "cell_type": "code",
   "execution_count": null,
   "id": "3d079437",
   "metadata": {},
   "outputs": [
    {
     "name": "stdout",
     "output_type": "stream",
     "text": [
      "{'nombre': 'Laura', 'apellido': 'Gomez', 'celular': '99445', 'Edad': 25, 'direccion': 'Sacramento edif.Dot'}\n",
      "{'nombre': 'Laura', 'apellido': 'Gomez', 'celular': '99445', 'Edad': 25, 'direccion': 'Sacramento edif.Dot'}\n"
     ]
    }
   ],
   "source": [
    "#Acceder al dato del diccionario\n",
    "mi_contacto['nombre']\n",
    "\n",
    "#Desplegar datos del diccionario\n",
    "mi_contacto.keys()\n",
    "mi_contacto.values()\n",
    "mi_contacto.items()\n",
    "\n",
    "#Actualizar los datos de mi diccionario\n",
    "mi_contacto['direccion' ]= 'Sacramento edif.Dot'\n",
    "print(mi_contacto)\n",
    "mi_contacto['celular' ]= '99445'\n",
    "print(mi_contacto)\n",
    "\n",
    "#ultimo par\n",
    "\n"
   ]
  },
  {
   "cell_type": "code",
   "execution_count": null,
   "id": "38af454f",
   "metadata": {},
   "outputs": [
    {
     "name": "stdout",
     "output_type": "stream",
     "text": [
      "{'nombre': 'juan'}\n",
      "{'nombre': 'juan', 'apellido': 'medina'}\n",
      "{'nombre': 'juan', 'apellido': 'medina', 'edad': '15'}\n",
      "{'nombre': 'juan', 'apellido': 'medina', 'edad': '15', 'sexo': 'asculino'}\n",
      "{'nombre': 'juan', 'apellido': 'medina', 'edad': '15', 'sexo': 'asculino', 'correo electronico': 'nkjn@gma'}\n"
     ]
    }
   ],
   "source": [
    "#Pedir al usuario qué tipo de dato quiere agregar \n",
    "#Pedir al usuario el valor de ese dato \n",
    "#Agregar ese dato al diccionario, usando el tipo de dato como clave y el valor como contenido \n",
    "#Mostrar en pantalla el contenido actual del diccionario \n",
    "\n",
    "#Diccionario\n",
    "informacion_persona ={\n",
    "}\n",
    "\n",
    "#Diccionario de la persona\n",
    "informacion_persona ['nombre'] = input('nombre: ')\n",
    "print(informacion_persona)\n",
    "informacion_persona ['apellido'] = input('apellido: ')\n",
    "print(informacion_persona)\n",
    "informacion_persona['edad'] = input('edad: ')\n",
    "print(informacion_persona)\n",
    "informacion_persona['sexo'] = input('sexo: ')\n",
    "print(informacion_persona)\n",
    "informacion_persona['correo electronico'] = input('correo: ')\n",
    "print(informacion_persona)\n",
    "\n"
   ]
  },
  {
   "cell_type": "code",
   "execution_count": null,
   "id": "72a45adc",
   "metadata": {},
   "outputs": [
    {
     "name": "stdout",
     "output_type": "stream",
     "text": [
      "{'nombre': 'Laura', 'apellido': 'Gomez', 'Targeta de credito': 5498564, 'sexo': 'Femenino'}\n",
      "{'nombre': 'gabriel', 'apellido': '', 'Targeta de credito': '', 'sexo': ''}\n",
      "{'nombre': 'gabriel', 'apellido': '', 'Targeta de credito': '', 'sexo': ''}\n"
     ]
    }
   ],
   "source": [
    "targeta_credito= {\"nombre\": \"Laura\" , \"apellido\" : \"Gomez\" , \"Targeta de credito\" : 5498564 , \"sexo\" : \"Femenino\"}\n",
    "\n",
    "\n",
    "#targeta_credito['nombre'] = 'Jose'\n",
    "#targeta_credito ['apellido'] = 'Medina'\n",
    "#targeta_credito['numero de la targeta'] = '565498845651'\n",
    "#targeta_credito['sexo'] = 'Masculino'\n",
    "#print(targeta_credito)\n",
    "#eliminar = 3\n",
    " \n",
    "print(targeta_credito)\n",
    "\n",
    "opcion = int(input(\"Que desas, modificar o eliminar\"))\n",
    "\n",
    "\n",
    "while True:\n",
    " if opcion == 1:\n",
    "    targeta_credito.keys()\n",
    "    input(\"Que valor desea modificar\")\n",
    "    targeta_credito['nombre']= input('nombre ')\n",
    "    targeta_credito ['apellido'] = input('apellido')\n",
    "    targeta_credito['Targeta de credito'] = input ('numero targeta')\n",
    "    targeta_credito['sexo'] = input ('sexo ')\n",
    "    print(targeta_credito)\n",
    "    break\n",
    " elif opcion == 2:\n",
    "   targeta_credito.keys()\n",
    "   input(\"Que valor desea eliminar\")\n",
    "   del targeta_credito [\"nombre\"]\n",
    "   break\n",
    " else:\n",
    "   break\n",
    " \n",
    "\n",
    "print(targeta_credito)\n",
    "\n",
    "\n",
    "    \n",
    "\n",
    "\n",
    "\n",
    "\n"
   ]
  },
  {
   "cell_type": "code",
   "execution_count": null,
   "id": "fab895bf",
   "metadata": {},
   "outputs": [
    {
     "ename": "SyntaxError",
     "evalue": "cannot assign to literal here. Maybe you meant '==' instead of '='? (151061539.py, line 15)",
     "output_type": "error",
     "traceback": [
      "  \u001b[36mCell\u001b[39m\u001b[36m \u001b[39m\u001b[32mIn[5]\u001b[39m\u001b[32m, line 15\u001b[39m\n\u001b[31m    \u001b[39m\u001b[31m\"contacto1\" =gabriel\u001b[39m\n    ^\n\u001b[31mSyntaxError\u001b[39m\u001b[31m:\u001b[39m cannot assign to literal here. Maybe you meant '==' instead of '='?\n"
     ]
    }
   ],
   "source": [
    #Crear un agenda de contactos. el usuario puede elegir:
#Mostrar contactos
gabriel={"nombre" : "gabriel" , "apellido" : "raidan" , "edad" : "15" , "sexo" : "Masculino"}
Alan= {"nombre" : "Alan" , "apellido" :  "Riquelme" ,"edad" : "24" , "sexo" : "Masculino"}
Alavaro={ "nombre" : "Alvaro" , "apellido" : "Guillén", "edad" : "24", "sexo" : "Masculino"}
Cualquiera = {}
#Crear contacto
#Modificar datos del contacto 

contacto1 = gabriel
contacto2 = Alan
contacto3 = Alavaro

Contactos_generales ={
    "contacto1" : gabriel , 
    "contacto2" : Alan,
    "contacto3" : Alavaro
}

    
    
#Bucle de mostrar contactos , Modificar contactos, modificar datos del contacto, salir"
while True:
    opci= int(input("Mostrar contactos 1 , Modificar contactos 2, modificar datos del contacto 3, 4 salir"))
    if opci ==1:
        print(Contactos_generales.items())
    elif opci == 2:
        Cualquiera ['nombre'] = input('nombre: ')
        print(Cualquiera)
        Cualquiera ['apellido'] = input('apellido: ')
        print(Cualquiera)
        Cualquiera['edad'] = input('edad: ')
        print(Cualquiera)
        Cualquiera['sexo'] = input('sexo: ')
        print(Cualquiera)
        print(Cualquiera.items(),Contactos_generales.items())
    elif opci == 3:
        Modi = input("¿Qué contacto deseas modificar? (ej. contacto1): ")
        if Modi in Contactos_generales:
            Contactos_generales[Modi]["nombre"] = input("Nuevo nombre: ")
            Contactos_generales[Modi]["edad"] = input("Nueva edad: ")
            print("Contacto actualizado:", Contactos_generales[Modi])
        else:
            print("Contacto no encontrado.")

    elif opci == 4:
        print("Saliendo del programa.")
        break

    else:
        print("Opción no válida.")
    "\n",
    "        \n",
    "\n",
    "\n"
   ]
  },
  {
   "cell_type": "code",
   "execution_count": null,
   "id": "8a8bc345",
   "metadata": {},
   "outputs": [
    {
     "name": "stdout",
     "output_type": "stream",
     "text": [
      "Cuando hablo digo, meow meow. Cuando me muevo, hago saltos\n"
     ]
    }
   ],
   "source": [
    "\n",
    "#Atributos de clase\n",
    "class Perro:\n",
    "    ojos= 2\n",
    "    patas = 4\n",
    "\n",
    "#Atributos de instancia\n",
    "    def __init__(self, color, raza):\n",
    "       self.color= color\n",
    "       self.raza= raza\n",
    "       \n",
    "     #Metodos\n",
    "    def ladrar(self):\n",
    "           return('Cuando hablo digo, meow meow.')\n",
    "       \n",
    "    def saltar (self):\n",
    "           return('Cuando me muevo, hago saltos')\n",
    "\n",
    "firu = Perro(\"marron\" , \"delmert\")\n",
    "\n",
    "print(firu.ladrar() , firu.saltar())\n",
    "        "
   ]
  },
  {
   "cell_type": "code",
   "execution_count": 59,
   "id": "d5c83cb0",
   "metadata": {},
   "outputs": [
    {
     "name": "stdout",
     "output_type": "stream",
     "text": [
      "marron\n",
      "delmert\n"
     ]
    }
   ],
   "source": [
    "#Atributos de clase\n",
    "class Caballo(Perro):\n",
    "    orejas = 2\n",
    "\n",
    "#Metodos\n",
    "    def jugar(self):\n",
    "     return ('juega con el perro')\n",
    "\n",
    "#crear al animal   \n",
    "Juan= Caballo('marron' , 'delmert')\n",
    "\n",
    "#Imprimir\n",
    "print(Juan.color)\n",
    "print(Juan.raza)"
   ]
  }
 ],
 "metadata": {
  "kernelspec": {
   "display_name": "Python 3",
   "language": "python",
   "name": "python3"
  },
  "language_info": {
   "codemirror_mode": {
    "name": "ipython",
    "version": 3
   },
   "file_extension": ".py",
   "mimetype": "text/x-python",
   "name": "python",
   "nbconvert_exporter": "python",
   "pygments_lexer": "ipython3",
   "version": "3.13.3"
  }
 },
 "nbformat": 4,
 "nbformat_minor": 5
}
