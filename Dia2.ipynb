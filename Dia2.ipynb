{
 "cells": [
  {
   "cell_type": "code",
   "execution_count": null,
   "id": "15a13455",
   "metadata": {},
   "outputs": [],
   "source": [
    "#Practica\n",
    "def saludo_bienvenida(nombre):\n",
    "    print(\"Buen dia \" + nombre)\n",
    "\n",
    "saludo_bienvenida\n",
    "   "
   ]
  },
  {
   "cell_type": "code",
   "execution_count": 62,
   "id": "6813572d",
   "metadata": {},
   "outputs": [
    {
     "name": "stdout",
     "output_type": "stream",
     "text": [
      "Hace lo que quieras\n"
     ]
    }
   ],
   "source": [
    "#Escribir un pregunte al usuario por su edad\n",
    "\n",
    "edad_para_beber = 28\n",
    "\n",
    "if edad_para_beber < 18:\n",
    "    print('juguito nomas')\n",
    "elif edad_para_beber > 21:\n",
    "    print('Hace lo que quieras')\n",
    "else:\n",
    "    print('podes tomar pero no comprar')"
   ]
  },
  {
   "cell_type": "code",
   "execution_count": 132,
   "id": "94d24d12",
   "metadata": {},
   "outputs": [
    {
     "name": "stdout",
     "output_type": "stream",
     "text": [
      "Ñamano mbae\n"
     ]
    }
   ],
   "source": [
    "#Escribir un programa en el que se pregunte al usuario por una temperatura (en grados Celsius),\n",
    "#imprima la temperatura escrita, y luego clasificar la temperatura ingresada en los siguientes niveles\n",
    "\n",
    "def grados (temperatura): \n",
    " temperatura = int(input(\"Cuanta temperatura hace\"))\n",
    " if temperatura >= -10 and temperatura <= 18:\n",
    "     print(\"Fresquete\") \n",
    " elif temperatura >= 19 and temperatura <= 30:\n",
    "    print(\"Calor_i\")\n",
    " elif temperatura >= 31 and temperatura <= 45:\n",
    "    print(\"Hakuuuu\")\n",
    " else:\n",
    "    print(\"Ñamano mbae\")\n",
    "\n",
    "grados(\"temperatura\")"
   ]
  },
  {
   "cell_type": "code",
   "execution_count": null,
   "id": "3e08588c",
   "metadata": {},
   "outputs": [
    {
     "name": "stdout",
     "output_type": "stream",
     "text": [
      "Contraseña correcta\n"
     ]
    }
   ],
   "source": [
    "#Escribir un programa que almacene una contraseña\n",
    "\n",
    "contra = \"54655\"\n",
    "contrasena_ingresada = input(\"Ingresar contra: \")\n",
    "\n",
    "while contrasena_ingresada != contra:\n",
    "    print(\"Contraseña incorrecta\")\n",
    "    contrasena_ingresada = input(\"Intenta de nuevo: \")\n",
    "\n",
    "print(\"El mensaje secreta es: la pizza es mejor\")\n"
   ]
  },
  {
   "cell_type": "code",
   "execution_count": 17,
   "id": "e65edb60",
   "metadata": {},
   "outputs": [
    {
     "name": "stdout",
     "output_type": "stream",
     "text": [
      " banana\n",
      "['pera', 'manzana', ' banana', 'kiwi']\n",
      "['pera', 'durazno', ' banana', 'kiwi']\n",
      "['durazno', ' banana', 'kiwi']\n",
      "['durazno', 'kiwi']\n",
      "2\n"
     ]
    }
   ],
   "source": [
    "#practica\n",
    "\n",
    "lista_fruta= ['pera' , 'manzana' , ' banana']\n",
    "#diferentes tipos de datos\n",
    "lista_bool= [True, False, True]\n",
    "lista_numero = [1, 2, 3, 4]\n",
    "\n",
    "print(lista_fruta[2])\n",
    "\n",
    "#Añadir\n",
    "lista_fruta.append('kiwi')\n",
    "print(lista_fruta)\n",
    "\n",
    "#Modificar\n",
    "lista_fruta[1] = 'durazno'\n",
    "print(lista_fruta)\n",
    "\n",
    "#Eliminar\n",
    "lista_fruta.remove('pera')\n",
    "print(lista_fruta)\n",
    "\n",
    "#Eliminar por indice\n",
    "lista_fruta.pop(1)\n",
    "print(lista_fruta)\n",
    "\n",
    "#Contar elementos de la lista\n",
    "print(len(lista_fruta))"
   ]
  },
  {
   "cell_type": "code",
   "execution_count": 33,
   "id": "b344e822",
   "metadata": {},
   "outputs": [
    {
     "name": "stdout",
     "output_type": "stream",
     "text": [
      "['arge', 'br', 'pr', 'ch', 'col', 'Mex']\n",
      "['arge', 'Rus', 'pr', 'ch', 'col', 'Mex']\n",
      "['arge', 'Rus', 'ch', 'col', 'Mex']\n",
      "['Rus', 'ch', 'col', 'Mex']\n"
     ]
    }
   ],
   "source": [
    "#Crear una lista de 5 elementos\n",
    "\n",
    "lista_mundo= ['arge', 'br' ,'pr', 'ch', 'col']\n",
    "lista_num= [1,2 ,3 ,4 ,5]\n",
    "\n",
    "#agregar\n",
    "lista_mundo.append('Mex')\n",
    "print(lista_mundo)\n",
    "\n",
    "#Modificar\n",
    "lista_mundo[1] = 'Rus'\n",
    "print(lista_mundo)\n",
    "\n",
    "#eliminar pop\n",
    "lista_mundo.pop(2)\n",
    "print(lista_mundo)\n",
    "\n",
    "#eliminar remove\n",
    "lista_mundo.remove('arge')\n",
    "print(lista_mundo)\n",
    "\n"
   ]
  },
  {
   "cell_type": "code",
   "execution_count": null,
   "id": "d0b0a12a",
   "metadata": {},
   "outputs": [
    {
     "name": "stdout",
     "output_type": "stream",
     "text": [
      "1\n",
      "2\n",
      "3\n",
      "4\n",
      "5\n",
      "6\n",
      "7\n",
      "['pan', 'queso', 'coca', 'leche', 'ron']\n",
      "['pan', 'queso', 'coca', 'leche', 'ron']\n",
      "['pan', 'queso', 'coca', 'leche', 'ron']\n",
      "['pan', 'queso', 'coca', 'leche', 'ron']\n",
      "['pan', 'queso', 'coca', 'leche', 'ron']\n",
      "Hola buen dia\n",
      "Hola buen dia\n",
      "Hola buen dia\n",
      "Hola buen dia\n",
      "Hola buen dia\n"
     ]
    }
   ],
   "source": [
    "#practica\n",
    "dias_de_la_sema= [1,2,3,4,5,6,7]\n",
    "\n",
    "for i in dias_de_la_sema:\n",
    "    print(i)\n",
    "\n",
    "\n",
    "lista_compras = ['pan' , 'queso' , 'coca' , 'leche' , 'ron']\n",
    "\n",
    "for articulos in lista_compras:\n",
    "    print(lista_compras)\n",
    "\n",
    "\n",
    "    \n",
    "for i in range(5):\n",
    "    print('Hola buen dia')\n",
    "\n",
    "\n",
    "\n"
   ]
  },
  {
   "cell_type": "code",
   "execution_count": 60,
   "id": "c81c110e",
   "metadata": {},
   "outputs": [
    {
     "name": "stdout",
     "output_type": "stream",
     "text": [
      "2\n",
      "4\n",
      "6\n",
      "8\n",
      "10\n",
      "12\n",
      "14\n",
      "16\n",
      "18\n",
      "20\n"
     ]
    }
   ],
   "source": [
    "#Escribir un programa que itere en un rango de 10 veces.Por cada iteracion multiplicar iterador por dos e imprimir el resultado\n",
    "\n",
    "tabla_multiplicar = [1, 2, 3, 4, 5, 6, 7, 8, 9, 10]\n",
    "\n",
    "for multiplicar in tabla_multiplicar:\n",
    "    print(multiplicar * 2)\n",
    "\n",
    "   "
   ]
  },
  {
   "cell_type": "code",
   "execution_count": 85,
   "id": "b8b81399",
   "metadata": {},
   "outputs": [
    {
     "name": "stdout",
     "output_type": "stream",
     "text": [
      "Hyndai\n",
      "newbalance\n"
     ]
    }
   ],
   "source": [
    "#Recorrer los elementos de una lista de marcas e imprimir cada marca solamente si tiene 6 letras o mas\n",
    "\n",
    "lista_marca= ('Hyndai','nike', 'puma', 'audi', 'newbalance')\n",
    "for lista in lista_marca:\n",
    "    if len(lista) >=6:\n",
    "        print(lista)\n"
   ]
  },
  {
   "cell_type": "code",
   "execution_count": 5,
   "id": "34b99ea9",
   "metadata": {},
   "outputs": [
    {
     "name": "stdout",
     "output_type": "stream",
     "text": [
      "Tiene la o\n",
      "Tiene la o\n",
      "Tiene la o\n"
     ]
    }
   ],
   "source": [
    "#Solocitar al usuario que ingrese una frase. Imprimir un mensaje cada vez que se encuentre una letra \"O\"\n",
    "\n",
    "frase = input(\"poner una frase\")\n",
    "\n",
    "for O in frase:\n",
    "    if O == \"o\":\n",
    "      print(\"Tiene la o\")\n",
    "    "
   ]
  }
 ],
 "metadata": {
  "kernelspec": {
   "display_name": "Python 3",
   "language": "python",
   "name": "python3"
  },
  "language_info": {
   "codemirror_mode": {
    "name": "ipython",
    "version": 3
   },
   "file_extension": ".py",
   "mimetype": "text/x-python",
   "name": "python",
   "nbconvert_exporter": "python",
   "pygments_lexer": "ipython3",
   "version": "3.13.3"
  }
 },
 "nbformat": 4,
 "nbformat_minor": 5
}
